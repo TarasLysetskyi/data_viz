{
 "cells": [
  {
   "cell_type": "markdown",
   "id": "5038461b",
   "metadata": {},
   "source": [
    "#  <h1 style=\"text-align:center\"> Numpy </h1> "
   ]
  },
  {
   "cell_type": "code",
   "execution_count": null,
   "id": "ce43b9bb",
   "metadata": {},
   "outputs": [],
   "source": [
    "import numpy as np"
   ]
  },
  {
   "cell_type": "code",
   "execution_count": 3,
   "id": "15434305",
   "metadata": {},
   "outputs": [
    {
     "data": {
      "text/plain": [
       "array([1, 2, 3, 4, 5])"
      ]
     },
     "execution_count": 3,
     "metadata": {},
     "output_type": "execute_result"
    }
   ],
   "source": [
    "ls=[1,2,3,4,5]\n",
    "arr = np.array(ls)\n",
    "arr"
   ]
  },
  {
   "cell_type": "code",
   "execution_count": 4,
   "id": "fd1d20a5",
   "metadata": {},
   "outputs": [
    {
     "data": {
      "text/plain": [
       "numpy.ndarray"
      ]
     },
     "execution_count": 4,
     "metadata": {},
     "output_type": "execute_result"
    }
   ],
   "source": [
    "type(arr)"
   ]
  },
  {
   "cell_type": "code",
   "execution_count": 5,
   "id": "d326fa7e",
   "metadata": {},
   "outputs": [
    {
     "data": {
      "text/plain": [
       "(5,)"
      ]
     },
     "execution_count": 5,
     "metadata": {},
     "output_type": "execute_result"
    }
   ],
   "source": [
    "arr.shape"
   ]
  },
  {
   "cell_type": "code",
   "execution_count": 7,
   "id": "91776da7",
   "metadata": {},
   "outputs": [
    {
     "data": {
      "text/plain": [
       "array([[1, 2],\n",
       "       [3, 4]])"
      ]
     },
     "execution_count": 7,
     "metadata": {},
     "output_type": "execute_result"
    }
   ],
   "source": [
    "arr2 = np.array([[1,2],[3,4]])\n",
    "arr2\n"
   ]
  },
  {
   "cell_type": "code",
   "execution_count": 8,
   "id": "39d9c549",
   "metadata": {},
   "outputs": [
    {
     "data": {
      "text/plain": [
       "(2, 2)"
      ]
     },
     "execution_count": 8,
     "metadata": {},
     "output_type": "execute_result"
    }
   ],
   "source": [
    "arr2.shape"
   ]
  },
  {
   "cell_type": "code",
   "execution_count": null,
   "id": "92a68486",
   "metadata": {},
   "outputs": [],
   "source": [
    "arr2.astype('float')"
   ]
  },
  {
   "cell_type": "code",
   "execution_count": 10,
   "id": "9a79cc7a",
   "metadata": {},
   "outputs": [
    {
     "data": {
      "text/plain": [
       "array([[1., 2.],\n",
       "       [3., 4.]])"
      ]
     },
     "execution_count": 10,
     "metadata": {},
     "output_type": "execute_result"
    }
   ],
   "source": [
    "arr2 = np.array([[1,2],[3,4]], dtype = 'float')\n",
    "arr2"
   ]
  },
  {
   "cell_type": "code",
   "execution_count": 11,
   "id": "71625311",
   "metadata": {},
   "outputs": [
    {
     "data": {
      "text/plain": [
       "2.0"
      ]
     },
     "execution_count": 11,
     "metadata": {},
     "output_type": "execute_result"
    }
   ],
   "source": [
    "arr2[0][1]"
   ]
  },
  {
   "cell_type": "code",
   "execution_count": 12,
   "id": "ade9dd46",
   "metadata": {
    "scrolled": true
   },
   "outputs": [
    {
     "data": {
      "text/plain": [
       "array([[1., 3.],\n",
       "       [3., 4.]])"
      ]
     },
     "execution_count": 12,
     "metadata": {},
     "output_type": "execute_result"
    }
   ],
   "source": [
    "arr2[0][1]=3\n",
    "arr2"
   ]
  },
  {
   "cell_type": "markdown",
   "id": "8b2b832d",
   "metadata": {},
   "source": [
    "# 3 slicing"
   ]
  },
  {
   "cell_type": "code",
   "execution_count": 13,
   "id": "8326f981",
   "metadata": {},
   "outputs": [
    {
     "data": {
      "text/plain": [
       "array([1, 2, 3, 4, 5])"
      ]
     },
     "execution_count": 13,
     "metadata": {},
     "output_type": "execute_result"
    }
   ],
   "source": [
    "arr"
   ]
  },
  {
   "cell_type": "code",
   "execution_count": 14,
   "id": "a3254913",
   "metadata": {
    "scrolled": true
   },
   "outputs": [
    {
     "data": {
      "text/plain": [
       "1"
      ]
     },
     "execution_count": 14,
     "metadata": {},
     "output_type": "execute_result"
    }
   ],
   "source": [
    "arr[0]"
   ]
  },
  {
   "cell_type": "code",
   "execution_count": 15,
   "id": "7ca49352",
   "metadata": {},
   "outputs": [
    {
     "data": {
      "text/plain": [
       "array([1, 2])"
      ]
     },
     "execution_count": 15,
     "metadata": {},
     "output_type": "execute_result"
    }
   ],
   "source": [
    "arr[0:2]"
   ]
  },
  {
   "cell_type": "code",
   "execution_count": 16,
   "id": "00799547",
   "metadata": {},
   "outputs": [
    {
     "data": {
      "text/plain": [
       "array([1, 2])"
      ]
     },
     "execution_count": 16,
     "metadata": {},
     "output_type": "execute_result"
    }
   ],
   "source": [
    "arr[:2]"
   ]
  },
  {
   "cell_type": "code",
   "execution_count": 17,
   "id": "fdac40b9",
   "metadata": {},
   "outputs": [
    {
     "data": {
      "text/plain": [
       "array([2, 3, 4, 5])"
      ]
     },
     "execution_count": 17,
     "metadata": {},
     "output_type": "execute_result"
    }
   ],
   "source": [
    "arr[1:]"
   ]
  },
  {
   "cell_type": "code",
   "execution_count": 18,
   "id": "ba0cb4ae",
   "metadata": {
    "scrolled": true
   },
   "outputs": [
    {
     "ename": "IndexError",
     "evalue": "too many indices for array: array is 1-dimensional, but 2 were indexed",
     "output_type": "error",
     "traceback": [
      "\u001b[1;31m---------------------------------------------------------------------------\u001b[0m",
      "\u001b[1;31mIndexError\u001b[0m                                Traceback (most recent call last)",
      "Cell \u001b[1;32mIn[18], line 1\u001b[0m\n\u001b[1;32m----> 1\u001b[0m \u001b[43marr\u001b[49m\u001b[43m[\u001b[49m\u001b[38;5;241;43m1\u001b[39;49m\u001b[43m:\u001b[49m\u001b[43m,\u001b[49m\u001b[38;5;241;43m2\u001b[39;49m\u001b[43m]\u001b[49m\n",
      "\u001b[1;31mIndexError\u001b[0m: too many indices for array: array is 1-dimensional, but 2 were indexed"
     ]
    }
   ],
   "source": [
    "arr[1:,2]"
   ]
  },
  {
   "cell_type": "code",
   "execution_count": null,
   "id": "d13de7c1",
   "metadata": {},
   "outputs": [],
   "source": [
    "arr[1:,:2]"
   ]
  },
  {
   "cell_type": "markdown",
   "id": "ffd6830a",
   "metadata": {},
   "source": [
    "# delete"
   ]
  },
  {
   "cell_type": "code",
   "execution_count": 19,
   "id": "88edc8e7",
   "metadata": {
    "scrolled": true
   },
   "outputs": [
    {
     "data": {
      "text/plain": [
       "array([1., 3., 4.])"
      ]
     },
     "execution_count": 19,
     "metadata": {},
     "output_type": "execute_result"
    }
   ],
   "source": [
    "np.delete(arr2, 1)"
   ]
  },
  {
   "cell_type": "code",
   "execution_count": 20,
   "id": "cd799111",
   "metadata": {
    "scrolled": false
   },
   "outputs": [
    {
     "data": {
      "text/plain": [
       "array([[1.],\n",
       "       [3.]])"
      ]
     },
     "execution_count": 20,
     "metadata": {},
     "output_type": "execute_result"
    }
   ],
   "source": [
    "np.delete(arr2, 1,1)"
   ]
  },
  {
   "cell_type": "code",
   "execution_count": 21,
   "id": "8abcc772",
   "metadata": {
    "scrolled": true
   },
   "outputs": [
    {
     "data": {
      "text/plain": [
       "array([[1., 3.]])"
      ]
     },
     "execution_count": 21,
     "metadata": {},
     "output_type": "execute_result"
    }
   ],
   "source": [
    "np.delete(arr2, 1,0)"
   ]
  },
  {
   "cell_type": "code",
   "execution_count": 22,
   "id": "63c20ba6",
   "metadata": {},
   "outputs": [],
   "source": [
    "# np.s_ slicing"
   ]
  },
  {
   "cell_type": "code",
   "execution_count": 24,
   "id": "226904b9",
   "metadata": {},
   "outputs": [
    {
     "data": {
      "text/plain": [
       "array([[2, 7],\n",
       "       [4, 9]])"
      ]
     },
     "execution_count": 24,
     "metadata": {},
     "output_type": "execute_result"
    }
   ],
   "source": [
    "arr3 = np.array([[1,2,5,7,8],[3,4,6,9,1]])\n",
    "np.delete(arr3, np.s_[::2],1)"
   ]
  },
  {
   "cell_type": "code",
   "execution_count": 26,
   "id": "a4902aa9",
   "metadata": {},
   "outputs": [
    {
     "data": {
      "text/plain": [
       "array([[3, 4, 6, 9, 1]])"
      ]
     },
     "execution_count": 26,
     "metadata": {},
     "output_type": "execute_result"
    }
   ],
   "source": [
    "arr3 = np.array([[1,2,5,7,8],[3,4,6,9,1]])\n",
    "np.delete(arr3, np.s_[::2],0)"
   ]
  },
  {
   "cell_type": "code",
   "execution_count": 27,
   "id": "6dc08fd9",
   "metadata": {},
   "outputs": [
    {
     "data": {
      "text/plain": [
       "array([[1, 2, 5, 7, 8],\n",
       "       [3, 4, 6, 9, 1]])"
      ]
     },
     "execution_count": 27,
     "metadata": {},
     "output_type": "execute_result"
    }
   ],
   "source": [
    "arr3"
   ]
  },
  {
   "cell_type": "markdown",
   "id": "86bd2393",
   "metadata": {},
   "source": [
    "# types, nans"
   ]
  },
  {
   "cell_type": "code",
   "execution_count": null,
   "id": "5706b029",
   "metadata": {},
   "outputs": [],
   "source": [
    "# якщо пробувати змінити тип елемента, то numpy приведе до типу всіх інших елементів\n",
    "x=float(arr3[0][0])\n",
    "arr3[0][0]=x\n",
    "arr3[0][0]\n"
   ]
  },
  {
   "cell_type": "code",
   "execution_count": 29,
   "id": "171fcc7b",
   "metadata": {},
   "outputs": [
    {
     "data": {
      "text/plain": [
       "array([[1., 2., 5., 7., 8.],\n",
       "       [3., 4., 6., 9., 1.]])"
      ]
     },
     "execution_count": 29,
     "metadata": {},
     "output_type": "execute_result"
    }
   ],
   "source": [
    "arr3 = arr3.astype('float')\n",
    "arr3"
   ]
  },
  {
   "cell_type": "code",
   "execution_count": 31,
   "id": "fc599f55",
   "metadata": {},
   "outputs": [
    {
     "data": {
      "text/plain": [
       "array([[nan,  2.,  5.,  7.,  8.],\n",
       "       [ 3.,  4., inf,  9.,  1.]])"
      ]
     },
     "execution_count": 31,
     "metadata": {},
     "output_type": "execute_result"
    }
   ],
   "source": [
    "arr3[0][0]=np.nan\n",
    "arr3[1][2]=np.inf\n",
    "arr3"
   ]
  },
  {
   "cell_type": "code",
   "execution_count": 32,
   "id": "a0eab759",
   "metadata": {},
   "outputs": [
    {
     "data": {
      "text/plain": [
       "array([[ True, False, False, False, False],\n",
       "       [False, False, False, False, False]])"
      ]
     },
     "execution_count": 32,
     "metadata": {},
     "output_type": "execute_result"
    }
   ],
   "source": [
    "np.isnan(arr3)"
   ]
  },
  {
   "cell_type": "code",
   "execution_count": 33,
   "id": "91392cbe",
   "metadata": {},
   "outputs": [
    {
     "data": {
      "text/plain": [
       "array([[False, False, False, False, False],\n",
       "       [False, False,  True, False, False]])"
      ]
     },
     "execution_count": 33,
     "metadata": {},
     "output_type": "execute_result"
    }
   ],
   "source": [
    "np.isinf(arr3)"
   ]
  },
  {
   "cell_type": "code",
   "execution_count": 34,
   "id": "9406bfc7",
   "metadata": {},
   "outputs": [
    {
     "data": {
      "text/plain": [
       "array([ 2.,  5.,  7.,  8.,  3.,  4., inf,  9.,  1.])"
      ]
     },
     "execution_count": 34,
     "metadata": {},
     "output_type": "execute_result"
    }
   ],
   "source": [
    "arr3[~np.isnan(arr3)]"
   ]
  },
  {
   "cell_type": "markdown",
   "id": "2fcdf536",
   "metadata": {},
   "source": [
    "# булеві операції"
   ]
  },
  {
   "cell_type": "code",
   "execution_count": 35,
   "id": "69f1908a",
   "metadata": {},
   "outputs": [
    {
     "data": {
      "text/plain": [
       "[array([False, False,  True,  True,  True]),\n",
       " array([ True,  True,  True,  True, False])]"
      ]
     },
     "execution_count": 35,
     "metadata": {},
     "output_type": "execute_result"
    }
   ],
   "source": [
    "arr3 = np.array([[1,2,5,7,8],[3,4,6,9,1]])\n",
    "[i>2 for i in arr3]"
   ]
  },
  {
   "cell_type": "code",
   "execution_count": 36,
   "id": "1bd0e632",
   "metadata": {},
   "outputs": [
    {
     "data": {
      "text/plain": [
       "array([[ True, False, False, False, False],\n",
       "       [False, False, False, False,  True]])"
      ]
     },
     "execution_count": 36,
     "metadata": {},
     "output_type": "execute_result"
    }
   ],
   "source": [
    "arr3 == 1"
   ]
  },
  {
   "cell_type": "code",
   "execution_count": null,
   "id": "9cbcc4b4",
   "metadata": {},
   "outputs": [],
   "source": [
    "arr3>2"
   ]
  },
  {
   "cell_type": "code",
   "execution_count": 37,
   "id": "d791f580",
   "metadata": {},
   "outputs": [
    {
     "data": {
      "text/plain": [
       "array([5, 7, 8, 3, 4, 6, 9])"
      ]
     },
     "execution_count": 37,
     "metadata": {},
     "output_type": "execute_result"
    }
   ],
   "source": [
    "arr3[arr3>2]"
   ]
  },
  {
   "cell_type": "code",
   "execution_count": 38,
   "id": "be65cc5f",
   "metadata": {},
   "outputs": [
    {
     "data": {
      "text/plain": [
       "array([[1, 2, 2, 2, 2],\n",
       "       [2, 2, 2, 2, 1]])"
      ]
     },
     "execution_count": 38,
     "metadata": {},
     "output_type": "execute_result"
    }
   ],
   "source": [
    "arr3[arr3>2] = 2\n",
    "arr3"
   ]
  },
  {
   "cell_type": "code",
   "execution_count": 41,
   "id": "5d6b5b99",
   "metadata": {},
   "outputs": [
    {
     "data": {
      "text/plain": [
       "array([[0., 0., 0., 0.],\n",
       "       [1., 1., 1., 1.],\n",
       "       [2., 2., 2., 2.],\n",
       "       [3., 3., 3., 3.],\n",
       "       [4., 4., 4., 4.],\n",
       "       [5., 5., 5., 5.],\n",
       "       [6., 6., 6., 6.],\n",
       "       [7., 7., 7., 7.]])"
      ]
     },
     "execution_count": 41,
     "metadata": {},
     "output_type": "execute_result"
    }
   ],
   "source": [
    "arr = np.empty((8, 4))\n",
    "arr"
   ]
  },
  {
   "cell_type": "code",
   "execution_count": 42,
   "id": "3728ea61",
   "metadata": {},
   "outputs": [
    {
     "data": {
      "text/plain": [
       "array([[0., 0., 0., 0.],\n",
       "       [1., 1., 1., 1.],\n",
       "       [2., 2., 2., 2.],\n",
       "       [3., 3., 3., 3.],\n",
       "       [4., 4., 4., 4.],\n",
       "       [5., 5., 5., 5.],\n",
       "       [6., 6., 6., 6.],\n",
       "       [7., 7., 7., 7.]])"
      ]
     },
     "execution_count": 42,
     "metadata": {},
     "output_type": "execute_result"
    }
   ],
   "source": [
    "for i in range(8):\n",
    "    arr[i] = i\n",
    "arr"
   ]
  },
  {
   "cell_type": "code",
   "execution_count": 43,
   "id": "f81f22be",
   "metadata": {
    "scrolled": true
   },
   "outputs": [
    {
     "data": {
      "text/plain": [
       "array([[2., 2., 2., 2.],\n",
       "       [4., 4., 4., 4.],\n",
       "       [5., 5., 5., 5.]])"
      ]
     },
     "execution_count": 43,
     "metadata": {},
     "output_type": "execute_result"
    }
   ],
   "source": [
    "arr[[2,4,5]]"
   ]
  },
  {
   "cell_type": "code",
   "execution_count": 44,
   "id": "c221bb35",
   "metadata": {},
   "outputs": [
    {
     "data": {
      "text/plain": [
       "array([[7., 7., 7., 7.],\n",
       "       [2., 2., 2., 2.],\n",
       "       [4., 4., 4., 4.]])"
      ]
     },
     "execution_count": 44,
     "metadata": {},
     "output_type": "execute_result"
    }
   ],
   "source": [
    "arr[[-1,2,-4]]"
   ]
  },
  {
   "cell_type": "markdown",
   "id": "aaa8097b",
   "metadata": {},
   "source": [
    "# zeros ones"
   ]
  },
  {
   "cell_type": "code",
   "execution_count": 46,
   "id": "a1d783b2",
   "metadata": {},
   "outputs": [
    {
     "data": {
      "text/plain": [
       "array([5., 0., 5., 0., 5., 0., 5., 0., 5., 0.])"
      ]
     },
     "execution_count": 46,
     "metadata": {},
     "output_type": "execute_result"
    }
   ],
   "source": [
    "arr4 = np.zeros(shape=(10,))\n",
    "arr4[::2]=5\n",
    "arr4"
   ]
  },
  {
   "cell_type": "code",
   "execution_count": 47,
   "id": "124bd245",
   "metadata": {
    "scrolled": true
   },
   "outputs": [
    {
     "data": {
      "text/plain": [
       "array([[0., 0.]])"
      ]
     },
     "execution_count": 47,
     "metadata": {},
     "output_type": "execute_result"
    }
   ],
   "source": [
    "np.zeros((1,2))"
   ]
  },
  {
   "cell_type": "code",
   "execution_count": 48,
   "id": "8a124f38",
   "metadata": {
    "scrolled": true
   },
   "outputs": [
    {
     "data": {
      "text/plain": [
       "array([[[0., 0.],\n",
       "        [0., 0.],\n",
       "        [0., 0.],\n",
       "        [0., 0.]],\n",
       "\n",
       "       [[0., 0.],\n",
       "        [0., 0.],\n",
       "        [0., 0.],\n",
       "        [0., 0.]],\n",
       "\n",
       "       [[0., 0.],\n",
       "        [0., 0.],\n",
       "        [0., 0.],\n",
       "        [0., 0.]],\n",
       "\n",
       "       [[0., 0.],\n",
       "        [0., 0.],\n",
       "        [0., 0.],\n",
       "        [0., 0.]],\n",
       "\n",
       "       [[0., 0.],\n",
       "        [0., 0.],\n",
       "        [0., 0.],\n",
       "        [0., 0.]]])"
      ]
     },
     "execution_count": 48,
     "metadata": {},
     "output_type": "execute_result"
    }
   ],
   "source": [
    "np.zeros([5,4,2])"
   ]
  },
  {
   "cell_type": "code",
   "execution_count": 49,
   "id": "01ef2104",
   "metadata": {},
   "outputs": [
    {
     "data": {
      "text/plain": [
       "array([[[1., 1.],\n",
       "        [1., 1.],\n",
       "        [1., 1.],\n",
       "        [1., 1.]],\n",
       "\n",
       "       [[1., 1.],\n",
       "        [1., 1.],\n",
       "        [1., 1.],\n",
       "        [1., 1.]],\n",
       "\n",
       "       [[1., 1.],\n",
       "        [1., 1.],\n",
       "        [1., 1.],\n",
       "        [1., 1.]],\n",
       "\n",
       "       [[1., 1.],\n",
       "        [1., 1.],\n",
       "        [1., 1.],\n",
       "        [1., 1.]],\n",
       "\n",
       "       [[1., 1.],\n",
       "        [1., 1.],\n",
       "        [1., 1.],\n",
       "        [1., 1.]]])"
      ]
     },
     "execution_count": 49,
     "metadata": {},
     "output_type": "execute_result"
    }
   ],
   "source": [
    "np.ones([5,4,2])"
   ]
  },
  {
   "cell_type": "markdown",
   "id": "6c9a21ac",
   "metadata": {},
   "source": [
    "# Статистичні функції"
   ]
  },
  {
   "cell_type": "code",
   "execution_count": 50,
   "id": "01437fe7",
   "metadata": {},
   "outputs": [],
   "source": [
    "arr3 = np.array([1,2,5,7,8])"
   ]
  },
  {
   "cell_type": "code",
   "execution_count": 51,
   "id": "8b52596b",
   "metadata": {},
   "outputs": [
    {
     "data": {
      "text/plain": [
       "4.6"
      ]
     },
     "execution_count": 51,
     "metadata": {},
     "output_type": "execute_result"
    }
   ],
   "source": [
    "arr3.mean()"
   ]
  },
  {
   "cell_type": "code",
   "execution_count": 52,
   "id": "7ef7ce72",
   "metadata": {},
   "outputs": [
    {
     "data": {
      "text/plain": [
       "1"
      ]
     },
     "execution_count": 52,
     "metadata": {},
     "output_type": "execute_result"
    }
   ],
   "source": [
    "arr3.min()"
   ]
  },
  {
   "cell_type": "code",
   "execution_count": 53,
   "id": "9a7a5bd1",
   "metadata": {},
   "outputs": [
    {
     "data": {
      "text/plain": [
       "8"
      ]
     },
     "execution_count": 53,
     "metadata": {},
     "output_type": "execute_result"
    }
   ],
   "source": [
    "arr3.max()"
   ]
  },
  {
   "cell_type": "code",
   "execution_count": 54,
   "id": "4e6ce548",
   "metadata": {},
   "outputs": [
    {
     "data": {
      "text/plain": [
       "4"
      ]
     },
     "execution_count": 54,
     "metadata": {},
     "output_type": "execute_result"
    }
   ],
   "source": [
    "arr3.argmax()"
   ]
  },
  {
   "cell_type": "code",
   "execution_count": 55,
   "id": "15d7b9e9",
   "metadata": {
    "scrolled": true
   },
   "outputs": [
    {
     "data": {
      "text/plain": [
       "0"
      ]
     },
     "execution_count": 55,
     "metadata": {},
     "output_type": "execute_result"
    }
   ],
   "source": [
    "arr3.argmin()"
   ]
  },
  {
   "cell_type": "code",
   "execution_count": 57,
   "id": "b7432e56",
   "metadata": {},
   "outputs": [
    {
     "data": {
      "text/plain": [
       "10"
      ]
     },
     "execution_count": 57,
     "metadata": {},
     "output_type": "execute_result"
    }
   ],
   "source": [
    "np.maximum(5,10)"
   ]
  },
  {
   "cell_type": "code",
   "execution_count": 58,
   "id": "bdb69c7b",
   "metadata": {},
   "outputs": [
    {
     "data": {
      "text/plain": [
       "23"
      ]
     },
     "execution_count": 58,
     "metadata": {},
     "output_type": "execute_result"
    }
   ],
   "source": [
    "arr3.sum()"
   ]
  },
  {
   "cell_type": "code",
   "execution_count": 59,
   "id": "9ffec7ac",
   "metadata": {},
   "outputs": [
    {
     "data": {
      "text/plain": [
       "23"
      ]
     },
     "execution_count": 59,
     "metadata": {},
     "output_type": "execute_result"
    }
   ],
   "source": [
    "np.sum(arr3)"
   ]
  },
  {
   "cell_type": "code",
   "execution_count": 60,
   "id": "d684ae43",
   "metadata": {},
   "outputs": [
    {
     "data": {
      "text/plain": [
       "19"
      ]
     },
     "execution_count": 60,
     "metadata": {},
     "output_type": "execute_result"
    }
   ],
   "source": [
    "arr4 = np.array([[1,5],[5,8]])\n",
    "arr4.sum()"
   ]
  },
  {
   "cell_type": "code",
   "execution_count": 61,
   "id": "3e7b113e",
   "metadata": {},
   "outputs": [
    {
     "data": {
      "text/plain": [
       "array([ 6, 13])"
      ]
     },
     "execution_count": 61,
     "metadata": {},
     "output_type": "execute_result"
    }
   ],
   "source": [
    "arr4.sum(axis=0)"
   ]
  },
  {
   "cell_type": "code",
   "execution_count": 62,
   "id": "39d6d7d7",
   "metadata": {},
   "outputs": [
    {
     "data": {
      "text/plain": [
       "array([ 6, 13])"
      ]
     },
     "execution_count": 62,
     "metadata": {},
     "output_type": "execute_result"
    }
   ],
   "source": [
    "arr4.sum(axis=1)"
   ]
  },
  {
   "cell_type": "code",
   "execution_count": 63,
   "id": "89f62c1f",
   "metadata": {},
   "outputs": [
    {
     "data": {
      "text/plain": [
       "array([3. , 6.5])"
      ]
     },
     "execution_count": 63,
     "metadata": {},
     "output_type": "execute_result"
    }
   ],
   "source": [
    "arr4.mean(axis=1)"
   ]
  },
  {
   "cell_type": "code",
   "execution_count": 64,
   "id": "9ebd675e",
   "metadata": {},
   "outputs": [
    {
     "data": {
      "text/plain": [
       "4.75"
      ]
     },
     "execution_count": 64,
     "metadata": {},
     "output_type": "execute_result"
    }
   ],
   "source": [
    "arr4.mean()"
   ]
  },
  {
   "cell_type": "code",
   "execution_count": 65,
   "id": "475331f7",
   "metadata": {},
   "outputs": [
    {
     "data": {
      "text/plain": [
       "array([1, 0, 1, 1, 0], dtype=int32)"
      ]
     },
     "execution_count": 65,
     "metadata": {},
     "output_type": "execute_result"
    }
   ],
   "source": [
    "arr3 % 2"
   ]
  },
  {
   "cell_type": "code",
   "execution_count": 66,
   "id": "2ac36e2a",
   "metadata": {},
   "outputs": [
    {
     "data": {
      "text/plain": [
       "array([0, 1, 2, 3, 4], dtype=int32)"
      ]
     },
     "execution_count": 66,
     "metadata": {},
     "output_type": "execute_result"
    }
   ],
   "source": [
    "arr3 // 2"
   ]
  },
  {
   "cell_type": "code",
   "execution_count": 67,
   "id": "34b09f1b",
   "metadata": {
    "scrolled": true
   },
   "outputs": [
    {
     "data": {
      "text/plain": [
       "(array([0.5, 0. , 0.5, 0.5, 0. ]), array([0., 1., 2., 3., 4.]))"
      ]
     },
     "execution_count": 67,
     "metadata": {},
     "output_type": "execute_result"
    }
   ],
   "source": [
    "np.modf(arr3/2)"
   ]
  },
  {
   "cell_type": "code",
   "execution_count": 68,
   "id": "c72cc968",
   "metadata": {},
   "outputs": [
    {
     "data": {
      "text/plain": [
       "array([2.71828183e+00, 7.38905610e+00, 1.48413159e+02, 1.09663316e+03,\n",
       "       2.98095799e+03])"
      ]
     },
     "execution_count": 68,
     "metadata": {},
     "output_type": "execute_result"
    }
   ],
   "source": [
    "np.exp(arr3)"
   ]
  },
  {
   "cell_type": "code",
   "execution_count": 70,
   "id": "57141a9e",
   "metadata": {},
   "outputs": [
    {
     "data": {
      "text/plain": [
       "array([1., 1., 3., 4., 4.])"
      ]
     },
     "execution_count": 70,
     "metadata": {},
     "output_type": "execute_result"
    }
   ],
   "source": [
    "np.ceil(arr3/2)"
   ]
  },
  {
   "cell_type": "code",
   "execution_count": 71,
   "id": "abcdb1aa",
   "metadata": {},
   "outputs": [
    {
     "data": {
      "text/plain": [
       "array([0., 1., 2., 3., 4.])"
      ]
     },
     "execution_count": 71,
     "metadata": {},
     "output_type": "execute_result"
    }
   ],
   "source": [
    "np.floor(arr3/2)"
   ]
  },
  {
   "cell_type": "code",
   "execution_count": 72,
   "id": "002bd794",
   "metadata": {},
   "outputs": [
    {
     "data": {
      "text/plain": [
       "7.44"
      ]
     },
     "execution_count": 72,
     "metadata": {},
     "output_type": "execute_result"
    }
   ],
   "source": [
    "arr3.var()"
   ]
  },
  {
   "cell_type": "code",
   "execution_count": 73,
   "id": "41ec70cf",
   "metadata": {},
   "outputs": [
    {
     "data": {
      "text/plain": [
       "2.727636339397171"
      ]
     },
     "execution_count": 73,
     "metadata": {},
     "output_type": "execute_result"
    }
   ],
   "source": [
    "arr3.std()"
   ]
  },
  {
   "cell_type": "code",
   "execution_count": 74,
   "id": "0035b64d",
   "metadata": {},
   "outputs": [
    {
     "ename": "AttributeError",
     "evalue": "'numpy.ndarray' object has no attribute 'median'",
     "output_type": "error",
     "traceback": [
      "\u001b[1;31m---------------------------------------------------------------------------\u001b[0m",
      "\u001b[1;31mAttributeError\u001b[0m                            Traceback (most recent call last)",
      "Cell \u001b[1;32mIn[74], line 1\u001b[0m\n\u001b[1;32m----> 1\u001b[0m \u001b[43marr3\u001b[49m\u001b[38;5;241;43m.\u001b[39;49m\u001b[43mmedian\u001b[49m()\n",
      "\u001b[1;31mAttributeError\u001b[0m: 'numpy.ndarray' object has no attribute 'median'"
     ]
    }
   ],
   "source": [
    "arr3.median()"
   ]
  },
  {
   "cell_type": "code",
   "execution_count": 75,
   "id": "a6d690be",
   "metadata": {},
   "outputs": [
    {
     "data": {
      "text/plain": [
       "5.0"
      ]
     },
     "execution_count": 75,
     "metadata": {},
     "output_type": "execute_result"
    }
   ],
   "source": [
    "np.median(arr3)"
   ]
  },
  {
   "cell_type": "code",
   "execution_count": 76,
   "id": "e1a3295c",
   "metadata": {
    "scrolled": true
   },
   "outputs": [
    {
     "ename": "AttributeError",
     "evalue": "'numpy.ndarray' object has no attribute 'mode'",
     "output_type": "error",
     "traceback": [
      "\u001b[1;31m---------------------------------------------------------------------------\u001b[0m",
      "\u001b[1;31mAttributeError\u001b[0m                            Traceback (most recent call last)",
      "Cell \u001b[1;32mIn[76], line 1\u001b[0m\n\u001b[1;32m----> 1\u001b[0m \u001b[43marr3\u001b[49m\u001b[38;5;241;43m.\u001b[39;49m\u001b[43mmode\u001b[49m()\n",
      "\u001b[1;31mAttributeError\u001b[0m: 'numpy.ndarray' object has no attribute 'mode'"
     ]
    }
   ],
   "source": [
    "arr3.mode()"
   ]
  },
  {
   "cell_type": "code",
   "execution_count": 77,
   "id": "686fac6a",
   "metadata": {},
   "outputs": [
    {
     "ename": "AttributeError",
     "evalue": "module 'numpy' has no attribute 'mode'",
     "output_type": "error",
     "traceback": [
      "\u001b[1;31m---------------------------------------------------------------------------\u001b[0m",
      "\u001b[1;31mAttributeError\u001b[0m                            Traceback (most recent call last)",
      "Cell \u001b[1;32mIn[77], line 1\u001b[0m\n\u001b[1;32m----> 1\u001b[0m \u001b[43mnp\u001b[49m\u001b[38;5;241;43m.\u001b[39;49m\u001b[43mmode\u001b[49m(arr3)\n",
      "File \u001b[1;32m~\\anaconda3\\lib\\site-packages\\numpy\\__init__.py:311\u001b[0m, in \u001b[0;36m__getattr__\u001b[1;34m(attr)\u001b[0m\n\u001b[0;32m    308\u001b[0m     \u001b[38;5;28;01mfrom\u001b[39;00m \u001b[38;5;21;01m.\u001b[39;00m\u001b[38;5;21;01mtesting\u001b[39;00m \u001b[38;5;28;01mimport\u001b[39;00m Tester\n\u001b[0;32m    309\u001b[0m     \u001b[38;5;28;01mreturn\u001b[39;00m Tester\n\u001b[1;32m--> 311\u001b[0m \u001b[38;5;28;01mraise\u001b[39;00m \u001b[38;5;167;01mAttributeError\u001b[39;00m(\u001b[38;5;124m\"\u001b[39m\u001b[38;5;124mmodule \u001b[39m\u001b[38;5;132;01m{!r}\u001b[39;00m\u001b[38;5;124m has no attribute \u001b[39m\u001b[38;5;124m\"\u001b[39m\n\u001b[0;32m    312\u001b[0m                      \u001b[38;5;124m\"\u001b[39m\u001b[38;5;132;01m{!r}\u001b[39;00m\u001b[38;5;124m\"\u001b[39m\u001b[38;5;241m.\u001b[39mformat(\u001b[38;5;18m__name__\u001b[39m, attr))\n",
      "\u001b[1;31mAttributeError\u001b[0m: module 'numpy' has no attribute 'mode'"
     ]
    }
   ],
   "source": [
    "np.mode(arr3)"
   ]
  },
  {
   "cell_type": "code",
   "execution_count": 80,
   "id": "2767de81",
   "metadata": {},
   "outputs": [
    {
     "name": "stderr",
     "output_type": "stream",
     "text": [
      "C:\\Users\\taras\\AppData\\Local\\Temp\\ipykernel_12204\\36583306.py:2: FutureWarning: Unlike other reduction functions (e.g. `skew`, `kurtosis`), the default behavior of `mode` typically preserves the axis it acts along. In SciPy 1.11.0, this behavior will change: the default value of `keepdims` will become False, the `axis` over which the statistic is taken will be eliminated, and the value None will no longer be accepted. Set `keepdims` to True or False to avoid this warning.\n",
      "  sts.mode(arr3)\n"
     ]
    },
    {
     "data": {
      "text/plain": [
       "ModeResult(mode=array([1]), count=array([1]))"
      ]
     },
     "execution_count": 80,
     "metadata": {},
     "output_type": "execute_result"
    }
   ],
   "source": [
    "import scipy.stats as sts\n",
    "sts.mode(arr3)"
   ]
  },
  {
   "cell_type": "code",
   "execution_count": 81,
   "id": "486e4271",
   "metadata": {
    "scrolled": true
   },
   "outputs": [
    {
     "name": "stderr",
     "output_type": "stream",
     "text": [
      "C:\\Users\\taras\\AppData\\Local\\Temp\\ipykernel_12204\\99027836.py:1: FutureWarning: Unlike other reduction functions (e.g. `skew`, `kurtosis`), the default behavior of `mode` typically preserves the axis it acts along. In SciPy 1.11.0, this behavior will change: the default value of `keepdims` will become False, the `axis` over which the statistic is taken will be eliminated, and the value None will no longer be accepted. Set `keepdims` to True or False to avoid this warning.\n",
      "  sts.mode([1,2,1,3,5,2])\n"
     ]
    },
    {
     "data": {
      "text/plain": [
       "ModeResult(mode=array([1]), count=array([2]))"
      ]
     },
     "execution_count": 81,
     "metadata": {},
     "output_type": "execute_result"
    }
   ],
   "source": [
    "sts.mode([1,2,1,3,5,2])"
   ]
  },
  {
   "cell_type": "code",
   "execution_count": null,
   "id": "eaf73ecf",
   "metadata": {},
   "outputs": [],
   "source": [
    "np.bincount(arr3)"
   ]
  },
  {
   "cell_type": "code",
   "execution_count": null,
   "id": "fdb0533b",
   "metadata": {},
   "outputs": [],
   "source": [
    "np.bincount(arr3).argmax()"
   ]
  },
  {
   "cell_type": "code",
   "execution_count": null,
   "id": "7f76bc78",
   "metadata": {},
   "outputs": [],
   "source": [
    "arr1 = np.array([1,5,7,9])\n",
    "arr2 = np.array([3,4,7,10])\n",
    "np.greater(arr1, arr2)"
   ]
  },
  {
   "cell_type": "code",
   "execution_count": null,
   "id": "c45d30ef",
   "metadata": {},
   "outputs": [],
   "source": [
    "# dot product\n",
    "np.dot(arr1, arr2)"
   ]
  },
  {
   "cell_type": "markdown",
   "id": "da7b8b97",
   "metadata": {},
   "source": [
    "# Reshape"
   ]
  },
  {
   "cell_type": "code",
   "execution_count": 82,
   "id": "80ee6eb5",
   "metadata": {},
   "outputs": [
    {
     "data": {
      "text/plain": [
       "(3, 3)"
      ]
     },
     "execution_count": 82,
     "metadata": {},
     "output_type": "execute_result"
    }
   ],
   "source": [
    "arr = np.array([[1,2,5],[7,8,9],[10,12,13]])\n",
    "arr.shape"
   ]
  },
  {
   "cell_type": "code",
   "execution_count": 83,
   "id": "9a2ad247",
   "metadata": {},
   "outputs": [
    {
     "data": {
      "text/plain": [
       "array([ 1,  2,  5,  7,  8,  9, 10, 12, 13])"
      ]
     },
     "execution_count": 83,
     "metadata": {},
     "output_type": "execute_result"
    }
   ],
   "source": [
    "arr.reshape(9,)"
   ]
  },
  {
   "cell_type": "code",
   "execution_count": 84,
   "id": "88ba163e",
   "metadata": {},
   "outputs": [
    {
     "data": {
      "text/plain": [
       "array([[ 1],\n",
       "       [ 2],\n",
       "       [ 5],\n",
       "       [ 7],\n",
       "       [ 8],\n",
       "       [ 9],\n",
       "       [10],\n",
       "       [12],\n",
       "       [13]])"
      ]
     },
     "execution_count": 84,
     "metadata": {},
     "output_type": "execute_result"
    }
   ],
   "source": [
    "arr.reshape(9,1)"
   ]
  },
  {
   "cell_type": "code",
   "execution_count": 86,
   "id": "65bd39af",
   "metadata": {},
   "outputs": [
    {
     "data": {
      "text/plain": [
       "array([ 1,  2,  5,  7,  8,  9, 10, 12, 13])"
      ]
     },
     "execution_count": 86,
     "metadata": {},
     "output_type": "execute_result"
    }
   ],
   "source": [
    "arr.reshape(9,1).ravel()"
   ]
  },
  {
   "cell_type": "code",
   "execution_count": 87,
   "id": "ca36381f",
   "metadata": {},
   "outputs": [
    {
     "data": {
      "text/plain": [
       "array([[ 1,  2,  5,  7],\n",
       "       [ 8,  9, 10, 12],\n",
       "       [13,  1,  7, 17]])"
      ]
     },
     "execution_count": 87,
     "metadata": {},
     "output_type": "execute_result"
    }
   ],
   "source": [
    "arr1 = np.array([[1,2,5],[7,8,9],[10,12,13],[1,7,17]])\n",
    "arr1.reshape(3,4)"
   ]
  },
  {
   "cell_type": "code",
   "execution_count": 88,
   "id": "6db829f5",
   "metadata": {},
   "outputs": [
    {
     "data": {
      "text/plain": [
       "array([[ 1,  2,  5],\n",
       "       [ 7,  8,  9],\n",
       "       [10, 12, 13],\n",
       "       [ 1,  7, 17]])"
      ]
     },
     "execution_count": 88,
     "metadata": {},
     "output_type": "execute_result"
    }
   ],
   "source": [
    "arr1.reshape(4,3)"
   ]
  },
  {
   "cell_type": "code",
   "execution_count": 89,
   "id": "4ff9e367",
   "metadata": {},
   "outputs": [
    {
     "data": {
      "text/plain": [
       "array([[ 1,  2],\n",
       "       [ 5,  7],\n",
       "       [ 8,  9],\n",
       "       [10, 12],\n",
       "       [13,  1],\n",
       "       [ 7, 17]])"
      ]
     },
     "execution_count": 89,
     "metadata": {},
     "output_type": "execute_result"
    }
   ],
   "source": [
    "arr1.reshape(6,2)"
   ]
  },
  {
   "cell_type": "code",
   "execution_count": 90,
   "id": "a9936ab0",
   "metadata": {},
   "outputs": [
    {
     "data": {
      "text/plain": [
       "array([ 1,  2,  5,  7,  8,  9, 10, 12, 13,  1,  7, 17])"
      ]
     },
     "execution_count": 90,
     "metadata": {},
     "output_type": "execute_result"
    }
   ],
   "source": [
    "arr1.reshape(3,4).ravel()"
   ]
  },
  {
   "cell_type": "code",
   "execution_count": 91,
   "id": "4d2bd607",
   "metadata": {},
   "outputs": [
    {
     "data": {
      "text/plain": [
       "array([ 1,  2,  5,  7,  8,  9, 10, 12, 13,  1,  7, 17])"
      ]
     },
     "execution_count": 91,
     "metadata": {},
     "output_type": "execute_result"
    }
   ],
   "source": [
    "arr1.reshape(4,3).ravel()"
   ]
  },
  {
   "cell_type": "code",
   "execution_count": null,
   "id": "ad6bf28b",
   "metadata": {},
   "outputs": [],
   "source": [
    "arr1.flatten()"
   ]
  },
  {
   "cell_type": "code",
   "execution_count": null,
   "id": "612e76de",
   "metadata": {},
   "outputs": [],
   "source": [
    "arr1.ravel()"
   ]
  },
  {
   "cell_type": "code",
   "execution_count": null,
   "id": "70d2195d",
   "metadata": {},
   "outputs": [],
   "source": [
    "# transpose"
   ]
  },
  {
   "cell_type": "code",
   "execution_count": 92,
   "id": "50517d4d",
   "metadata": {},
   "outputs": [
    {
     "data": {
      "text/plain": [
       "array([[ 1,  7, 10,  1],\n",
       "       [ 2,  8, 12,  7],\n",
       "       [ 5,  9, 13, 17]])"
      ]
     },
     "execution_count": 92,
     "metadata": {},
     "output_type": "execute_result"
    }
   ],
   "source": [
    "arr1.transpose()"
   ]
  },
  {
   "cell_type": "markdown",
   "id": "209732c4",
   "metadata": {},
   "source": [
    "# створення масивів"
   ]
  },
  {
   "cell_type": "code",
   "execution_count": 93,
   "id": "bf13f874",
   "metadata": {},
   "outputs": [
    {
     "data": {
      "text/plain": [
       "array([1, 2, 3, 4])"
      ]
     },
     "execution_count": 93,
     "metadata": {},
     "output_type": "execute_result"
    }
   ],
   "source": [
    "np.arange(1,5)"
   ]
  },
  {
   "cell_type": "code",
   "execution_count": 94,
   "id": "f8322d67",
   "metadata": {},
   "outputs": [
    {
     "data": {
      "text/plain": [
       "array([ 1.,  4.,  7., 10., 13.])"
      ]
     },
     "execution_count": 94,
     "metadata": {},
     "output_type": "execute_result"
    }
   ],
   "source": [
    "np.arange(1,16,3, dtype='float')"
   ]
  },
  {
   "cell_type": "code",
   "execution_count": 96,
   "id": "eb777d5a",
   "metadata": {},
   "outputs": [
    {
     "data": {
      "text/plain": [
       "array([ 1. ,  8.5, 16. ])"
      ]
     },
     "execution_count": 96,
     "metadata": {},
     "output_type": "execute_result"
    }
   ],
   "source": [
    "np.linspace(1,16,3, dtype='float')"
   ]
  },
  {
   "cell_type": "code",
   "execution_count": 97,
   "id": "e4140b99",
   "metadata": {},
   "outputs": [
    {
     "data": {
      "text/plain": [
       "array([ 1.  ,  4.75,  8.5 , 12.25, 16.  ])"
      ]
     },
     "execution_count": 97,
     "metadata": {},
     "output_type": "execute_result"
    }
   ],
   "source": [
    "np.linspace(1,16,5)"
   ]
  },
  {
   "cell_type": "code",
   "execution_count": 98,
   "id": "bdc034da",
   "metadata": {},
   "outputs": [
    {
     "data": {
      "text/plain": [
       "array([1, 1, 2, 2, 3, 3])"
      ]
     },
     "execution_count": 98,
     "metadata": {},
     "output_type": "execute_result"
    }
   ],
   "source": [
    "np.repeat([1,2,3],2)"
   ]
  },
  {
   "cell_type": "code",
   "execution_count": 99,
   "id": "337d4f7d",
   "metadata": {},
   "outputs": [
    {
     "data": {
      "text/plain": [
       "array([1, 2, 3, 1, 2, 3])"
      ]
     },
     "execution_count": 99,
     "metadata": {},
     "output_type": "execute_result"
    }
   ],
   "source": [
    "np.tile([1,2,3],2)"
   ]
  },
  {
   "cell_type": "code",
   "execution_count": 101,
   "id": "64ea9a3c",
   "metadata": {},
   "outputs": [],
   "source": [
    "x = np.arange(1,5)\n",
    "y = np.arange(-5,-1)"
   ]
  },
  {
   "cell_type": "code",
   "execution_count": 102,
   "id": "cfa7e383",
   "metadata": {
    "scrolled": true
   },
   "outputs": [
    {
     "data": {
      "text/plain": [
       "(array([[1, 2, 3, 4],\n",
       "        [1, 2, 3, 4],\n",
       "        [1, 2, 3, 4],\n",
       "        [1, 2, 3, 4]]),\n",
       " array([[-5, -5, -5, -5],\n",
       "        [-4, -4, -4, -4],\n",
       "        [-3, -3, -3, -3],\n",
       "        [-2, -2, -2, -2]]))"
      ]
     },
     "execution_count": 102,
     "metadata": {},
     "output_type": "execute_result"
    }
   ],
   "source": [
    "z,w = np.meshgrid(x,y)\n",
    "z,w"
   ]
  },
  {
   "cell_type": "code",
   "execution_count": 103,
   "id": "19b261f1",
   "metadata": {},
   "outputs": [
    {
     "data": {
      "text/plain": [
       "[<matplotlib.lines.Line2D at 0x203ffa2fc40>,\n",
       " <matplotlib.lines.Line2D at 0x203ffa2fd00>,\n",
       " <matplotlib.lines.Line2D at 0x203ffa2fdf0>,\n",
       " <matplotlib.lines.Line2D at 0x203ffa2fee0>]"
      ]
     },
     "execution_count": 103,
     "metadata": {},
     "output_type": "execute_result"
    },
    {
     "data": {
      "image/png": "[encoded data removed]",
      "text/plain": [
       "<Figure size 640x480 with 1 Axes>"
      ]
     },
     "metadata": {},
     "output_type": "display_data"
    }
   ],
   "source": [
    "import matplotlib.pyplot as plt\n",
    "plt.plot(z,w,'co')"
   ]
  },
  {
   "cell_type": "code",
   "execution_count": 104,
   "id": "bc029b41",
   "metadata": {},
   "outputs": [
    {
     "data": {
      "text/plain": [
       "[<matplotlib.lines.Line2D at 0x2038045e230>,\n",
       " <matplotlib.lines.Line2D at 0x2038045e320>,\n",
       " <matplotlib.lines.Line2D at 0x2038045e410>,\n",
       " <matplotlib.lines.Line2D at 0x2038045e500>]"
      ]
     },
     "execution_count": 104,
     "metadata": {},
     "output_type": "execute_result"
    },
    {
     "data": {
      "image/png": "[encoded data removed]",
      "text/plain": [
       "<Figure size 640x480 with 1 Axes>"
      ]
     },
     "metadata": {},
     "output_type": "display_data"
    }
   ],
   "source": [
    "import matplotlib.pyplot as plt\n",
    "plt.plot(z,w,'--r')"
   ]
  },
  {
   "cell_type": "markdown",
   "id": "784347e0",
   "metadata": {},
   "source": [
    "# Randoms"
   ]
  },
  {
   "cell_type": "code",
   "execution_count": 106,
   "id": "1a9896b4",
   "metadata": {},
   "outputs": [
    {
     "data": {
      "text/plain": [
       "array([[0.03443281, 0.26102742],\n",
       "       [0.52522237, 0.12159151],\n",
       "       [0.10683379, 0.85226344]])"
      ]
     },
     "execution_count": 106,
     "metadata": {},
     "output_type": "execute_result"
    }
   ],
   "source": [
    "np.random.rand(3,2)"
   ]
  },
  {
   "cell_type": "code",
   "execution_count": 107,
   "id": "8f6927ea",
   "metadata": {},
   "outputs": [
    {
     "data": {
      "text/plain": [
       "array([[[0.2521296 , 0.45568749],\n",
       "        [0.9999313 , 0.53564463]],\n",
       "\n",
       "       [[0.01490877, 0.51311687],\n",
       "        [0.23361182, 0.10610011]],\n",
       "\n",
       "       [[0.49791578, 0.04097923],\n",
       "        [0.23830348, 0.27133326]]])"
      ]
     },
     "execution_count": 107,
     "metadata": {},
     "output_type": "execute_result"
    }
   ],
   "source": [
    "np.random.rand(3,2,2)"
   ]
  },
  {
   "cell_type": "code",
   "execution_count": 108,
   "id": "47f8400c",
   "metadata": {},
   "outputs": [
    {
     "data": {
      "text/plain": [
       "6"
      ]
     },
     "execution_count": 108,
     "metadata": {},
     "output_type": "execute_result"
    }
   ],
   "source": [
    "np.random.randint(3,8)"
   ]
  },
  {
   "cell_type": "code",
   "execution_count": 109,
   "id": "02241796",
   "metadata": {},
   "outputs": [
    {
     "data": {
      "text/plain": [
       "array([[7, 3],\n",
       "       [6, 6]])"
      ]
     },
     "execution_count": 109,
     "metadata": {},
     "output_type": "execute_result"
    }
   ],
   "source": [
    "np.random.randint(3,8, [2,2])"
   ]
  },
  {
   "cell_type": "code",
   "execution_count": 110,
   "id": "191b7383",
   "metadata": {},
   "outputs": [
    {
     "data": {
      "text/plain": [
       "(array([1, 2, 3, 4, 5, 6]), array([2, 1, 2, 1, 2, 1], dtype=int64))"
      ]
     },
     "execution_count": 110,
     "metadata": {},
     "output_type": "execute_result"
    }
   ],
   "source": [
    "np.unique([1,2,3,3,4,5,5,1,6], return_counts = True)"
   ]
  },
  {
   "cell_type": "markdown",
   "id": "be6fc692",
   "metadata": {},
   "source": [
    "# Numpy read and save"
   ]
  },
  {
   "cell_type": "code",
   "execution_count": 113,
   "id": "3a97ffb7",
   "metadata": {},
   "outputs": [],
   "source": [
    "arr1 = np.array([[1,2,5],[7,8,9],[10,12,13],[1,7,17]])"
   ]
  },
  {
   "cell_type": "code",
   "execution_count": 114,
   "id": "66363f3c",
   "metadata": {},
   "outputs": [],
   "source": [
    "np.savetxt('array.csv',arr1,delimiter=',')"
   ]
  },
  {
   "cell_type": "code",
   "execution_count": 115,
   "id": "faeb26d0",
   "metadata": {},
   "outputs": [
    {
     "data": {
      "text/plain": [
       "array([[ 1.,  2.,  5.],\n",
       "       [ 7.,  8.,  9.],\n",
       "       [10., 12., 13.],\n",
       "       [ 1.,  7., 17.]])"
      ]
     },
     "execution_count": 115,
     "metadata": {},
     "output_type": "execute_result"
    }
   ],
   "source": [
    "np.loadtxt('array.csv',delimiter=',')"
   ]
  },
  {
   "cell_type": "code",
   "execution_count": 116,
   "id": "0ca2ff72",
   "metadata": {},
   "outputs": [],
   "source": [
    "np.savetxt('array2.csv',arr1)"
   ]
  },
  {
   "cell_type": "code",
   "execution_count": 117,
   "id": "417ba8a6",
   "metadata": {},
   "outputs": [
    {
     "data": {
      "text/plain": [
       "array([[ 1.,  2.,  5.],\n",
       "       [ 7.,  8.,  9.],\n",
       "       [10., 12., 13.],\n",
       "       [ 1.,  7., 17.]])"
      ]
     },
     "execution_count": 117,
     "metadata": {},
     "output_type": "execute_result"
    }
   ],
   "source": [
    "np.loadtxt('array2.csv')"
   ]
  },
  {
   "cell_type": "code",
   "execution_count": 118,
   "id": "e697f688",
   "metadata": {},
   "outputs": [],
   "source": [
    "np.save('some_array', arr1)\n"
   ]
  },
  {
   "cell_type": "code",
   "execution_count": null,
   "id": "0818c618",
   "metadata": {
    "scrolled": true
   },
   "outputs": [],
   "source": [
    "np.load('some_array.npy')"
   ]
  },
  {
   "cell_type": "code",
   "execution_count": null,
   "id": "24667bf2",
   "metadata": {},
   "outputs": [],
   "source": [
    "# os.getcwd() get current directory\n",
    "# os.chdir(current_dir_path) change current directory \n",
    "# np.save(filename, arr1)\n",
    "# or\n",
    "# np.save('directory' +'/'+'filename', arr1)"
   ]
  },
  {
   "cell_type": "markdown",
   "id": "9c6a91ed",
   "metadata": {},
   "source": [
    "# concatenate"
   ]
  },
  {
   "cell_type": "code",
   "execution_count": null,
   "id": "2dc71538",
   "metadata": {},
   "outputs": [],
   "source": [
    "arr\n"
   ]
  },
  {
   "cell_type": "code",
   "execution_count": 119,
   "id": "540183e5",
   "metadata": {},
   "outputs": [
    {
     "data": {
      "text/plain": [
       "array([[ 1,  2,  5],\n",
       "       [ 7,  8,  9],\n",
       "       [10, 12, 13],\n",
       "       [ 1,  2,  5],\n",
       "       [ 7,  8,  9],\n",
       "       [10, 12, 13]])"
      ]
     },
     "execution_count": 119,
     "metadata": {},
     "output_type": "execute_result"
    }
   ],
   "source": [
    "np.concatenate([arr,arr])"
   ]
  },
  {
   "cell_type": "code",
   "execution_count": 120,
   "id": "78ae3512",
   "metadata": {},
   "outputs": [
    {
     "data": {
      "text/plain": [
       "array([[ 1,  2,  5,  1,  2,  5],\n",
       "       [ 7,  8,  9,  7,  8,  9],\n",
       "       [10, 12, 13, 10, 12, 13]])"
      ]
     },
     "execution_count": 120,
     "metadata": {},
     "output_type": "execute_result"
    }
   ],
   "source": [
    "np.concatenate([arr,arr], axis = 1)"
   ]
  },
  {
   "cell_type": "code",
   "execution_count": 121,
   "id": "9d69d23b",
   "metadata": {},
   "outputs": [
    {
     "data": {
      "text/plain": [
       "array([[ 1,  2,  5],\n",
       "       [ 7,  8,  9],\n",
       "       [10, 12, 13],\n",
       "       [ 1,  2,  5],\n",
       "       [ 7,  8,  9],\n",
       "       [10, 12, 13]])"
      ]
     },
     "execution_count": 121,
     "metadata": {},
     "output_type": "execute_result"
    }
   ],
   "source": [
    "np.vstack([arr,arr])"
   ]
  },
  {
   "cell_type": "code",
   "execution_count": 122,
   "id": "f99c02fe",
   "metadata": {},
   "outputs": [
    {
     "data": {
      "text/plain": [
       "array([[ 1,  2,  5,  1,  2,  5],\n",
       "       [ 7,  8,  9,  7,  8,  9],\n",
       "       [10, 12, 13, 10, 12, 13]])"
      ]
     },
     "execution_count": 122,
     "metadata": {},
     "output_type": "execute_result"
    }
   ],
   "source": [
    "np.hstack([arr,arr])"
   ]
  },
  {
   "cell_type": "code",
   "execution_count": 123,
   "id": "7899644b",
   "metadata": {},
   "outputs": [
    {
     "data": {
      "text/plain": [
       "array([1, 2, 3, 4, 5, 6, 7, 8, 9])"
      ]
     },
     "execution_count": 123,
     "metadata": {},
     "output_type": "execute_result"
    }
   ],
   "source": [
    "np.append([1, 2, 3], [[4, 5, 6], [7, 8, 9]])"
   ]
  },
  {
   "cell_type": "code",
   "execution_count": 124,
   "id": "825d59bb",
   "metadata": {},
   "outputs": [
    {
     "data": {
      "text/plain": [
       "array([ 1,  2,  3,  1,  2,  5,  7,  8,  9, 10, 12, 13])"
      ]
     },
     "execution_count": 124,
     "metadata": {},
     "output_type": "execute_result"
    }
   ],
   "source": [
    "np.append([1, 2, 3], arr)"
   ]
  },
  {
   "cell_type": "code",
   "execution_count": null,
   "id": "b4b26b40",
   "metadata": {
    "scrolled": true
   },
   "outputs": [],
   "source": [
    "np.append([1, 2, 3],5)"
   ]
  },
  {
   "cell_type": "code",
   "execution_count": null,
   "id": "cf93a1e2",
   "metadata": {},
   "outputs": [],
   "source": [
    "np.append([1, 2, 3], 'str')"
   ]
  },
  {
   "cell_type": "code",
   "execution_count": null,
   "id": "55aec124",
   "metadata": {},
   "outputs": [],
   "source": [
    "arr2 = np.copy(arr)\n",
    "arr2"
   ]
  },
  {
   "cell_type": "code",
   "execution_count": null,
   "id": "64514e04",
   "metadata": {},
   "outputs": [],
   "source": [
    "arr3 = arr2.copy()\n",
    "arr3"
   ]
  },
  {
   "cell_type": "markdown",
   "id": "557f9709",
   "metadata": {},
   "source": [
    "# sort"
   ]
  },
  {
   "cell_type": "code",
   "execution_count": 125,
   "id": "e0cfbca1",
   "metadata": {},
   "outputs": [
    {
     "data": {
      "text/plain": [
       "array([[7, 5, 9],\n",
       "       [8, 5, 6],\n",
       "       [3, 6, 7]])"
      ]
     },
     "execution_count": 125,
     "metadata": {},
     "output_type": "execute_result"
    }
   ],
   "source": [
    "arr = np.array([[7,5,9],[8,5,6],[3,6,7]])\n",
    "arr"
   ]
  },
  {
   "cell_type": "code",
   "execution_count": 126,
   "id": "326044cf",
   "metadata": {
    "scrolled": false
   },
   "outputs": [
    {
     "data": {
      "text/plain": [
       "array([[5, 7, 9],\n",
       "       [5, 6, 8],\n",
       "       [3, 6, 7]])"
      ]
     },
     "execution_count": 126,
     "metadata": {},
     "output_type": "execute_result"
    }
   ],
   "source": [
    "np.sort(arr)"
   ]
  },
  {
   "cell_type": "code",
   "execution_count": 128,
   "id": "93992e81",
   "metadata": {},
   "outputs": [
    {
     "data": {
      "text/plain": [
       "array([[3, 5, 6],\n",
       "       [7, 5, 7],\n",
       "       [8, 6, 9]])"
      ]
     },
     "execution_count": 128,
     "metadata": {},
     "output_type": "execute_result"
    }
   ],
   "source": [
    "np.sort(arr,axis=0)"
   ]
  },
  {
   "cell_type": "code",
   "execution_count": null,
   "id": "ec330f85",
   "metadata": {},
   "outputs": [],
   "source": [
    "arr2 = np.sort(arr)\n",
    "arr2[::-1]"
   ]
  },
  {
   "cell_type": "code",
   "execution_count": null,
   "id": "edb12966",
   "metadata": {},
   "outputs": [],
   "source": [
    "dtype = [('name', str,8), ('height', float), ('age', int)]\n",
    "values = [('Arthur', 1.8, 41), ('Lancelot', 1.9, 38),\n",
    "          ('Galahad', 1.7, 38)]\n",
    "a = np.array(values, dtype=dtype)       \n",
    "np.sort(a, order='height')      "
   ]
  },
  {
   "cell_type": "code",
   "execution_count": 129,
   "id": "1faa0297",
   "metadata": {},
   "outputs": [
    {
     "data": {
      "text/plain": [
       "array([[5, 7, 9],\n",
       "       [5, 6, 8],\n",
       "       [3, 6, 7]])"
      ]
     },
     "execution_count": 129,
     "metadata": {},
     "output_type": "execute_result"
    }
   ],
   "source": [
    "np.sort(arr)"
   ]
  },
  {
   "cell_type": "code",
   "execution_count": 130,
   "id": "0edfda89",
   "metadata": {},
   "outputs": [
    {
     "data": {
      "text/plain": [
       "array([[1, 0, 2],\n",
       "       [1, 2, 0],\n",
       "       [0, 1, 2]], dtype=int64)"
      ]
     },
     "execution_count": 130,
     "metadata": {},
     "output_type": "execute_result"
    }
   ],
   "source": [
    "np.argsort(arr)"
   ]
  },
  {
   "cell_type": "code",
   "execution_count": 131,
   "id": "a8a12d91",
   "metadata": {},
   "outputs": [
    {
     "data": {
      "text/plain": [
       "array([[7, 5, 9],\n",
       "       [3, 6, 7],\n",
       "       [8, 5, 6]])"
      ]
     },
     "execution_count": 131,
     "metadata": {},
     "output_type": "execute_result"
    }
   ],
   "source": [
    "arr[[0,2,1]]"
   ]
  },
  {
   "cell_type": "code",
   "execution_count": 132,
   "id": "394087e7",
   "metadata": {},
   "outputs": [
    {
     "data": {
      "text/plain": [
       "array([[7, 9, 5],\n",
       "       [8, 6, 5],\n",
       "       [3, 7, 6]])"
      ]
     },
     "execution_count": 132,
     "metadata": {},
     "output_type": "execute_result"
    }
   ],
   "source": [
    "arr[:,[0,2,1]]"
   ]
  },
  {
   "cell_type": "markdown",
   "id": "f3d75f8b",
   "metadata": {},
   "source": [
    "# арифметичні операції з 'array'"
   ]
  },
  {
   "cell_type": "code",
   "execution_count": 133,
   "id": "96fcd142",
   "metadata": {},
   "outputs": [
    {
     "data": {
      "text/plain": [
       "array([[7, 5, 9],\n",
       "       [8, 5, 6],\n",
       "       [3, 6, 7]])"
      ]
     },
     "execution_count": 133,
     "metadata": {},
     "output_type": "execute_result"
    }
   ],
   "source": [
    "arr = np.array([[7,5,9],[8,5,6],[3,6,7]])\n",
    "arr"
   ]
  },
  {
   "cell_type": "code",
   "execution_count": 134,
   "id": "3a7ef4ed",
   "metadata": {},
   "outputs": [],
   "source": [
    "arr2 =  np.array([[1,2,5],[7,8,9],[10,12,13]])"
   ]
  },
  {
   "cell_type": "code",
   "execution_count": 135,
   "id": "04c39045",
   "metadata": {},
   "outputs": [
    {
     "data": {
      "text/plain": [
       "array([[ 8,  7, 14],\n",
       "       [15, 13, 15],\n",
       "       [13, 18, 20]])"
      ]
     },
     "execution_count": 135,
     "metadata": {},
     "output_type": "execute_result"
    }
   ],
   "source": [
    "arr + arr2"
   ]
  },
  {
   "cell_type": "code",
   "execution_count": 136,
   "id": "8e539ca0",
   "metadata": {},
   "outputs": [
    {
     "data": {
      "text/plain": [
       "array([[ 6,  3,  4],\n",
       "       [ 1, -3, -3],\n",
       "       [-7, -6, -6]])"
      ]
     },
     "execution_count": 136,
     "metadata": {},
     "output_type": "execute_result"
    }
   ],
   "source": [
    "arr - arr2"
   ]
  },
  {
   "cell_type": "code",
   "execution_count": 137,
   "id": "e7b9ac5e",
   "metadata": {},
   "outputs": [
    {
     "data": {
      "text/plain": [
       "array([[ 7, 10, 45],\n",
       "       [56, 40, 54],\n",
       "       [30, 72, 91]])"
      ]
     },
     "execution_count": 137,
     "metadata": {},
     "output_type": "execute_result"
    }
   ],
   "source": [
    "arr*arr2"
   ]
  },
  {
   "cell_type": "code",
   "execution_count": 138,
   "id": "734d4e84",
   "metadata": {},
   "outputs": [
    {
     "ename": "ValueError",
     "evalue": "operands could not be broadcast together with shapes (2,3) (3,3) ",
     "output_type": "error",
     "traceback": [
      "\u001b[1;31m---------------------------------------------------------------------------\u001b[0m",
      "\u001b[1;31mValueError\u001b[0m                                Traceback (most recent call last)",
      "Cell \u001b[1;32mIn[138], line 2\u001b[0m\n\u001b[0;32m      1\u001b[0m arr3 \u001b[38;5;241m=\u001b[39m np\u001b[38;5;241m.\u001b[39marray([[\u001b[38;5;241m1\u001b[39m,\u001b[38;5;241m2\u001b[39m,\u001b[38;5;241m5\u001b[39m],[\u001b[38;5;241m7\u001b[39m,\u001b[38;5;241m8\u001b[39m,\u001b[38;5;241m9\u001b[39m]])\n\u001b[1;32m----> 2\u001b[0m \u001b[43marr3\u001b[49m\u001b[38;5;241;43m+\u001b[39;49m\u001b[43marr\u001b[49m\n",
      "\u001b[1;31mValueError\u001b[0m: operands could not be broadcast together with shapes (2,3) (3,3) "
     ]
    }
   ],
   "source": [
    "arr3 = np.array([[1,2,5],[7,8,9]])\n",
    "arr3+arr"
   ]
  },
  {
   "cell_type": "code",
   "execution_count": 139,
   "id": "68fe8a74",
   "metadata": {},
   "outputs": [
    {
     "data": {
      "text/plain": [
       "array([[35, 25, 45],\n",
       "       [40, 25, 30],\n",
       "       [15, 30, 35]])"
      ]
     },
     "execution_count": 139,
     "metadata": {},
     "output_type": "execute_result"
    }
   ],
   "source": [
    "5*arr"
   ]
  },
  {
   "cell_type": "code",
   "execution_count": 140,
   "id": "816adeef",
   "metadata": {},
   "outputs": [
    {
     "data": {
      "text/plain": [
       "array([[0.71428571, 1.        , 0.55555556],\n",
       "       [0.625     , 1.        , 0.83333333],\n",
       "       [1.66666667, 0.83333333, 0.71428571]])"
      ]
     },
     "execution_count": 140,
     "metadata": {},
     "output_type": "execute_result"
    }
   ],
   "source": [
    "5/arr"
   ]
  },
  {
   "cell_type": "code",
   "execution_count": 141,
   "id": "95b42c3d",
   "metadata": {},
   "outputs": [
    {
     "data": {
      "text/plain": [
       "array([[49, 25, 81],\n",
       "       [64, 25, 36],\n",
       "       [ 9, 36, 49]])"
      ]
     },
     "execution_count": 141,
     "metadata": {},
     "output_type": "execute_result"
    }
   ],
   "source": [
    "arr**2"
   ]
  },
  {
   "cell_type": "code",
   "execution_count": 142,
   "id": "699baf1c",
   "metadata": {},
   "outputs": [
    {
     "data": {
      "text/plain": [
       "array([[2.64575131, 2.23606798, 3.        ],\n",
       "       [2.82842712, 2.23606798, 2.44948974],\n",
       "       [1.73205081, 2.44948974, 2.64575131]])"
      ]
     },
     "execution_count": 142,
     "metadata": {},
     "output_type": "execute_result"
    }
   ],
   "source": [
    "arr**0.5"
   ]
  },
  {
   "cell_type": "code",
   "execution_count": 143,
   "id": "69910a0a",
   "metadata": {},
   "outputs": [
    {
     "data": {
      "text/plain": [
       "array([[2.64575131, 2.23606798, 3.        ],\n",
       "       [2.82842712, 2.23606798, 2.44948974],\n",
       "       [1.73205081, 2.44948974, 2.64575131]])"
      ]
     },
     "execution_count": 143,
     "metadata": {},
     "output_type": "execute_result"
    }
   ],
   "source": [
    "np.sqrt(arr)"
   ]
  },
  {
   "cell_type": "code",
   "execution_count": null,
   "id": "5cdd627c",
   "metadata": {},
   "outputs": [],
   "source": [
    "abs(arr)"
   ]
  },
  {
   "cell_type": "code",
   "execution_count": null,
   "id": "809b8c6d",
   "metadata": {},
   "outputs": [],
   "source": [
    "np.matmul(arr,arr)"
   ]
  },
  {
   "cell_type": "code",
   "execution_count": null,
   "id": "6cb3077d",
   "metadata": {},
   "outputs": [],
   "source": [
    "# np.where(cond, value1/arr1,value2,arr2)"
   ]
  },
  {
   "cell_type": "code",
   "execution_count": 144,
   "id": "457d1b94",
   "metadata": {},
   "outputs": [
    {
     "data": {
      "image/png": "[encoded data removed]",
      "text/plain": [
       "<Figure size 640x480 with 1 Axes>"
      ]
     },
     "metadata": {},
     "output_type": "display_data"
    }
   ],
   "source": [
    "import numpy as np\n",
    "import matplotlib.pyplot as plt\n",
    "np.random.seed(0)\n",
    "x = np.random.rand(50)\n",
    "y = 2 * x + np.random.normal(0, 0.1, 50)\n",
    "\n",
    "plt.scatter(x, y, label='Data')\n",
    "\n",
    "coefficients = np.polyfit(x, y, 1)\n",
    "plt.plot(x, np.polyval(coefficients, x), color='red', label='Regression Line')\n",
    "\n",
    "plt.xlabel('X')\n",
    "plt.ylabel('Y')\n",
    "plt.title('Scatter Plot with Regression Line')\n",
    "plt.legend()\n",
    "plt.show()"
   ]
  },
  {
   "cell_type": "code",
   "execution_count": 146,
   "id": "8937fb23",
   "metadata": {
    "scrolled": true
   },
   "outputs": [
    {
     "data": {
      "image/png": "[encoded data removed]",
      "text/plain": [
       "<Figure size 640x480 with 1 Axes>"
      ]
     },
     "metadata": {},
     "output_type": "display_data"
    }
   ],
   "source": [
    "np.random.seed(0)\n",
    "data = np.random.normal(0, 1, 1000)\n",
    "\n",
    "plt.hist(data, bins=30, density=True, alpha=0.6, color='b')\n",
    "\n",
    "mu, sigma = np.mean(data), np.std(data)\n",
    "x = np.linspace(-4, 4, 100)\n",
    "plt.plot(x, 1/(sigma * np.sqrt(2 * np.pi)) * np.exp(-0.5 * ((x - mu) / sigma) ** 2), color='red')\n",
    "\n",
    "plt.xlabel('Value')\n",
    "plt.ylabel('Frequency')\n",
    "plt.title('Histogram with Normal Distribution Curve')\n",
    "plt.show()"
   ]
  },
  {
   "cell_type": "code",
   "execution_count": 147,
   "id": "fe951834",
   "metadata": {},
   "outputs": [
    {
     "data": {
      "image/png": "[encoded data removed]",
      "text/plain": [
       "<Figure size 640x480 with 1 Axes>"
      ]
     },
     "metadata": {},
     "output_type": "display_data"
    }
   ],
   "source": [
    "import matplotlib.pyplot as plt\n",
    "from mpl_toolkits.mplot3d import Axes3D\n",
    "\n",
    "x = np.linspace(-5, 5, 100)\n",
    "y = np.linspace(-5, 5, 100)\n",
    "X, Y = np.meshgrid(x, y)\n",
    "Z = np.sin(np.sqrt(X**2 + Y**2))\n",
    "\n",
    "fig = plt.figure()\n",
    "ax = fig.add_subplot(111, projection='3d')\n",
    "ax.plot_surface(X, Y, Z)\n",
    "\n",
    "ax.set_xlabel('X')\n",
    "ax.set_ylabel('Y')\n",
    "ax.set_zlabel('Z')\n",
    "ax.set_title('3D Surface Plot')\n",
    "plt.show()"
   ]
  },
  {
   "cell_type": "code",
   "execution_count": 148,
   "id": "116e6024",
   "metadata": {},
   "outputs": [
    {
     "data": {
      "text/plain": [
       "array([[ 7,  5,  9],\n",
       "       [ 8,  5,  6],\n",
       "       [-3,  6,  7]])"
      ]
     },
     "execution_count": 148,
     "metadata": {},
     "output_type": "execute_result"
    }
   ],
   "source": [
    "arr = np.array([[7,5,9],[8,5,6],[3,6,7]])\n",
    "np.where(arr>3,arr,-arr)"
   ]
  },
  {
   "cell_type": "code",
   "execution_count": 4,
   "id": "55f86d55",
   "metadata": {},
   "outputs": [
    {
     "data": {
      "text/plain": [
       "array([[100, 100],\n",
       "       [110, 110]])"
      ]
     },
     "execution_count": 4,
     "metadata": {},
     "output_type": "execute_result"
    }
   ],
   "source": [
    "numpy.outer([10,11],[10,10])"
   ]
  },
  {
   "cell_type": "markdown",
   "id": "6567390e",
   "metadata": {},
   "source": [
    "## Завдання"
   ]
  },
  {
   "cell_type": "markdown",
   "id": "3dd4ad4a",
   "metadata": {},
   "source": [
    "1.  Write a NumPy program to create a vector of length 10 with values evenly distributed between 5 and 50. <br>\n",
    "2.  Write a NumPy program to create an array of all even integers from 30 to 70. <br>\n",
    "3.  Write a NumPy program to create an array of 10 zeros, 10 ones, and 10 fives. <br>\n",
    "4.  Write a NumPy program to create a 3x3 identity matrix. <br>\n",
    "5.  Write a NumPy program to find missing data in a given array. <br>\n",
    "6.  Write a NumPy program to create a random 10x4 array and extract the first five rows of the array and store them into a variable. <br>\n",
    "7.  Write a NumPy program to create random vector of size 15 and replace the maximum value by -1.<br>\n",
    "8.  Write a NumPy program to find the closest value (to a given scalar) in an array. <br>\n",
    "9.  Write a NumPy program to get the n largest values of an array. <br>\n",
    "10. Write a NumPy program to create a structured array from given student name, height, class and their data types. Now sort by class, then height if class are equal.\n",
    "<br> Expected Output:\n",
    "<br> Original array:\n",
    "<br> [(b'James', 5, 48.5 ) (b'Nail', 6, 52.5 ) (b'Paul', 5, 42.1 ) (b'Pit', 5, 40.11)]\n",
    "<br> Sort by age, then height if class are equal:\n",
    "<br> [(b'Pit', 5, 40.11) (b'Paul', 5, 42.1 ) (b'James', 5, 48.5 ) (b'Nail', 6, 52.5 )].<br> *Tip: use np.sort(arr, order=[list o column names]).<br>\n",
    "11.  Write a NumPy program to sort an given array by the nth column. <br>\n",
    "12.  Write a NumPy program to create a 3x3 array with random values and subtract the mean of each column from each element. <br>\n",
    "13.  Write a NumPy program to replace all values greater than a given value. <br>\n",
    "14.  Write a NumPy program to convert an array of arrays into a flat 1d array.<br>\n",
    "15.  Write a NumPy program to replace all missing values with 0.<br>\n"
   ]
  },
  {
   "cell_type": "markdown",
   "id": "6b9c377f",
   "metadata": {},
   "source": [
    "### Задача <br>\n",
    " Знайти найбільший паліндром який є добутком двох трицифрових чисел"
   ]
  }
 ],
 "metadata": {
  "kernelspec": {
   "display_name": "Python 3 (ipykernel)",
   "language": "python",
   "name": "python3"
  },
  "language_info": {
   "codemirror_mode": {
    "name": "ipython",
    "version": 3
   },
   "file_extension": ".py",
   "mimetype": "text/x-python",
   "name": "python",
   "nbconvert_exporter": "python",
   "pygments_lexer": "ipython3",
   "version": "3.10.9"
  }
 },
 "nbformat": 4,
 "nbformat_minor": 5
}
